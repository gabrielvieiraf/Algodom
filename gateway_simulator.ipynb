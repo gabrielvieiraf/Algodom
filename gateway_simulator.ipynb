{
 "cells": [
  {
   "cell_type": "code",
   "execution_count": 11,
   "metadata": {
    "ExecuteTime": {
     "end_time": "2020-11-30T09:20:55.087079Z",
     "start_time": "2020-11-30T09:20:51.663834Z"
    },
    "scrolled": false
   },
   "outputs": [
    {
     "name": "stdout",
     "output_type": "stream",
     "text": [
      "in: 8759\n",
      "out: 9\n",
      "last: 2020-01-01 09:00:00\n",
      "now: 2020-11-30 06:00:00\n",
      "sel: 7990\n",
      "out: 7999\n",
      "in: 8759\n",
      "out: 9\n",
      "last: 2020-01-01 09:00:00\n",
      "now: 2020-11-30 06:00:00\n",
      "sel: 7990\n",
      "out: 7999\n",
      "in: 8759\n",
      "out: 7999\n",
      "last: 2020-11-30 06:00:00\n",
      "now: 2020-11-30 06:00:00\n",
      "in: 8759\n",
      "out: 7999\n",
      "last: 2020-11-30 06:00:00\n",
      "now: 2020-11-30 06:00:00\n"
     ]
    },
    {
     "ename": "KeyboardInterrupt",
     "evalue": "",
     "output_type": "error",
     "traceback": [
      "\u001b[0;31m---------------------------------------------------------------------------\u001b[0m",
      "\u001b[0;31mKeyboardInterrupt\u001b[0m                         Traceback (most recent call last)",
      "\u001b[0;32m<ipython-input-11-d460952cf764>\u001b[0m in \u001b[0;36m<module>\u001b[0;34m\u001b[0m\n\u001b[1;32m     63\u001b[0m         \u001b[0;32mfor\u001b[0m \u001b[0msensor_id\u001b[0m \u001b[0;32min\u001b[0m \u001b[0;34m[\u001b[0m\u001b[0;36m0\u001b[0m\u001b[0;34m,\u001b[0m \u001b[0;36m1\u001b[0m\u001b[0;34m]\u001b[0m\u001b[0;34m:\u001b[0m\u001b[0;34m\u001b[0m\u001b[0;34m\u001b[0m\u001b[0m\n\u001b[1;32m     64\u001b[0m             \u001b[0mgateway_simulator\u001b[0m\u001b[0;34m(\u001b[0m\u001b[0mUSER_ID\u001b[0m\u001b[0;34m,\u001b[0m \u001b[0msensor_id\u001b[0m\u001b[0;34m,\u001b[0m \u001b[0mverbose\u001b[0m\u001b[0;34m=\u001b[0m\u001b[0;32mTrue\u001b[0m\u001b[0;34m)\u001b[0m\u001b[0;34m\u001b[0m\u001b[0;34m\u001b[0m\u001b[0m\n\u001b[0;32m---> 65\u001b[0;31m             \u001b[0mtime\u001b[0m\u001b[0;34m.\u001b[0m\u001b[0msleep\u001b[0m\u001b[0;34m(\u001b[0m\u001b[0mPERIOD\u001b[0m \u001b[0;34m-\u001b[0m \u001b[0;34m(\u001b[0m\u001b[0;34m(\u001b[0m\u001b[0mtime\u001b[0m\u001b[0;34m.\u001b[0m\u001b[0mtime\u001b[0m\u001b[0;34m(\u001b[0m\u001b[0;34m)\u001b[0m \u001b[0;34m-\u001b[0m \u001b[0mstarttime\u001b[0m\u001b[0;34m)\u001b[0m \u001b[0;34m%\u001b[0m \u001b[0mPERIOD\u001b[0m\u001b[0;34m)\u001b[0m\u001b[0;34m)\u001b[0m\u001b[0;34m\u001b[0m\u001b[0;34m\u001b[0m\u001b[0m\n\u001b[0m",
      "\u001b[0;31mKeyboardInterrupt\u001b[0m: "
     ]
    }
   ],
   "source": [
    "import time\n",
    "from datetime import datetime\n",
    "import pandas as pd\n",
    "\n",
    "def gateway_simulator(user_id:int, sensor_id: int, verbose=False):\n",
    "    def timestamp_parser(epoch):\n",
    "        return pd.to_datetime(epoch, unit='s')\n",
    "\n",
    "    base_filename = str(user_id) + '_sensor_' + str(sensor_id) + '_db.csv'\n",
    "\n",
    "    # Abrir banco de dados completo\n",
    "    input_filename = 'data/db/' + base_filename\n",
    "    df_in = pd.read_csv(\n",
    "        input_filename,\n",
    "        date_parser=timestamp_parser,\n",
    "        index_col='timestamp',\n",
    "    )\n",
    "    if verbose:\n",
    "        print('in:', len(df_in))\n",
    "\n",
    "    # Abrir o banco de dados da api\n",
    "    output_filename = 'data/' + base_filename\n",
    "    df_out = pd.read_csv(\n",
    "        output_filename,\n",
    "        date_parser=timestamp_parser,\n",
    "        index_col='timestamp',\n",
    "    )\n",
    "    if verbose:\n",
    "        print('out:', len(df_out))\n",
    "\n",
    "    # buscar o último horário\n",
    "    time_last_out = \\\n",
    "        pd.Timestamp(df_out.tail(1).index.to_numpy()[0]).to_pydatetime()\n",
    "    time_now = datetime.now().replace(microsecond=0, second=0, minute=0)\n",
    "    if verbose:\n",
    "        print('last:', time_last_out)\n",
    "        print('now:', time_now)\n",
    "\n",
    "    if time_last_out != time_now:\n",
    "\n",
    "        # Selecionar linhas baseado no tempo atual\n",
    "        df_sel = df_in.loc[time_last_out:time_now]\n",
    "        if verbose:\n",
    "            print('sel:', len(df_sel))\n",
    "\n",
    "        # Enviar linhas para o banco de dados do sensor\n",
    "        df_out = df_out.append(df_sel)\n",
    "        if verbose:\n",
    "            print('out:', len(df_out))\n",
    "\n",
    "        # Convert to epoch in ms\n",
    "        df_out.index = (df_out.index - pd.Timestamp(\"1970-01-01\")) // pd.Timedelta('1s')\n",
    "\n",
    "        # salva\n",
    "        df_out.to_csv(output_filename, float_format='%.4f')\n",
    "\n",
    "if __name__ == '__main__':\n",
    "    starttime = time.time()\n",
    "    PERIOD = 1.0\n",
    "    USER_ID = 0\n",
    "\n",
    "    while True:\n",
    "        for sensor_id in [0, 1]:\n",
    "            gateway_simulator(USER_ID, sensor_id, verbose=True)\n",
    "            time.sleep(PERIOD - ((time.time() - starttime) % PERIOD))"
   ]
  }
 ],
 "metadata": {
  "hide_input": false,
  "kernelspec": {
   "display_name": "Python 3",
   "language": "python",
   "name": "python3"
  },
  "language_info": {
   "codemirror_mode": {
    "name": "ipython",
    "version": 3
   },
   "file_extension": ".py",
   "mimetype": "text/x-python",
   "name": "python",
   "nbconvert_exporter": "python",
   "pygments_lexer": "ipython3",
   "version": "3.8.6"
  },
  "toc": {
   "base_numbering": 1,
   "nav_menu": {},
   "number_sections": true,
   "sideBar": true,
   "skip_h1_title": false,
   "title_cell": "Table of Contents",
   "title_sidebar": "Contents",
   "toc_cell": false,
   "toc_position": {},
   "toc_section_display": true,
   "toc_window_display": false
  },
  "varInspector": {
   "cols": {
    "lenName": 16,
    "lenType": 16,
    "lenVar": 40
   },
   "kernels_config": {
    "python": {
     "delete_cmd_postfix": "",
     "delete_cmd_prefix": "del ",
     "library": "var_list.py",
     "varRefreshCmd": "print(var_dic_list())"
    },
    "r": {
     "delete_cmd_postfix": ") ",
     "delete_cmd_prefix": "rm(",
     "library": "var_list.r",
     "varRefreshCmd": "cat(var_dic_list()) "
    }
   },
   "types_to_exclude": [
    "module",
    "function",
    "builtin_function_or_method",
    "instance",
    "_Feature"
   ],
   "window_display": false
  }
 },
 "nbformat": 4,
 "nbformat_minor": 4
}
